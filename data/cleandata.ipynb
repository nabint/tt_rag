{
 "cells": [
  {
   "cell_type": "code",
   "execution_count": 2,
   "id": "5ef1f795",
   "metadata": {},
   "outputs": [],
   "source": [
    "import pandas as pd"
   ]
  },
  {
   "cell_type": "code",
   "execution_count": 3,
   "id": "bdb07684",
   "metadata": {},
   "outputs": [],
   "source": [
    "for i in range(1,7):\n",
    "    file_path = f\"reviews_reviews_io.teslatech.callbreak_20250{i}.csv\"\n",
    "    df = pd.read_csv(file_path, encoding='utf-16')\n",
    "    filtered_df = df[df['Developer Reply Text'].notnull() & df['Review Text'].notnull()]\n",
    "    df_selected = filtered_df[['Developer Reply Text', 'Review Text']]\n",
    "    \n",
    "    # ----\n",
    "    import os\n",
    "\n",
    "    output_path = \"filtered_reviews.csv\"\n",
    "\n",
    "    if not os.path.exists(output_path):\n",
    "        df_selected.to_csv(output_path, index=False)\n",
    "    else:\n",
    "        df_selected.to_csv(output_path, mode='a', index=False, header=False)"
   ]
  },
  {
   "cell_type": "code",
   "execution_count": 5,
   "id": "64667590",
   "metadata": {},
   "outputs": [],
   "source": [
    "file_path = \"filtered_reviews.csv\"\n",
    "df = pd.read_csv(file_path, encoding='utf-8')\n",
    "df = df[['Review Text', 'Developer Reply Text']]"
   ]
  },
  {
   "cell_type": "code",
   "execution_count": 7,
   "id": "3286751c",
   "metadata": {},
   "outputs": [],
   "source": [
    "df.to_csv(\"filtered_reviews.csv\", index=False)"
   ]
  },
  {
   "cell_type": "code",
   "execution_count": null,
   "id": "5711a6aa",
   "metadata": {},
   "outputs": [],
   "source": [
    "#df_selected.to_csv(\"filtered_reviews.csv\", index=False)\n",
    "import os\n",
    "\n",
    "output_path = \"filtered_reviews.csv\"\n",
    "\n",
    "if not os.path.exists(output_path):\n",
    "    df_selected.to_csv(output_path, index=False)\n",
    "else:\n",
    "    df_selected.to_csv(output_path, mode='a', index=False, header=False)"
   ]
  },
  {
   "cell_type": "code",
   "execution_count": null,
   "id": "6cbeba7f",
   "metadata": {},
   "outputs": [],
   "source": []
  }
 ],
 "metadata": {
  "kernelspec": {
   "display_name": "ai_env",
   "language": "python",
   "name": "python3"
  },
  "language_info": {
   "codemirror_mode": {
    "name": "ipython",
    "version": 3
   },
   "file_extension": ".py",
   "mimetype": "text/x-python",
   "name": "python",
   "nbconvert_exporter": "python",
   "pygments_lexer": "ipython3",
   "version": "3.12.4"
  }
 },
 "nbformat": 4,
 "nbformat_minor": 5
}
